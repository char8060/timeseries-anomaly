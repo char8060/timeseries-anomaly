{
 "cells": [
  {
   "cell_type": "code",
   "execution_count": 3,
   "metadata": {},
   "outputs": [],
   "source": [
    "import sys\n",
    "sys.path.insert(1, '/home/jupyter/ospc/src')\n",
    "from churn_utils import *\n",
    "from utils import *"
   ]
  },
  {
   "cell_type": "markdown",
   "metadata": {},
   "source": [
    "## Write query"
   ]
  },
  {
   "cell_type": "code",
   "execution_count": 17,
   "metadata": {},
   "outputs": [],
   "source": [
    "query = \"\"\"WITH q1 AS\n",
    "           (select usage_date,\n",
    "                  account_id,\n",
    "                  SUM(acct_ttl_unit_hours) as acct_ttl_unit_hours\n",
    "           from cloud_usage.rpt_tbl_server_uptime_acctdaily\n",
    "           where account_id = 615281\n",
    "           GROUP BY usage_date,\n",
    "                    account_id\n",
    "           ORDER BY usage_date ASC),\n",
    "           \n",
    "      q2 AS (\n",
    "      SELECT \n",
    "      q1.*,\n",
    "       AVG(acct_ttl_unit_hours) OVER (ORDER BY usage_date ROWS BETWEEN 5 PRECEDING AND CURRENT ROW) as a5,\n",
    "       AVG(acct_ttl_unit_hours) OVER (ORDER BY usage_date ROWS BETWEEN 10 PRECEDING AND CURRENT ROW) as a10,\n",
    "       AVG(acct_ttl_unit_hours) OVER (ORDER BY usage_date ROWS BETWEEN 15 PRECEDING AND CURRENT ROW) as a15,\n",
    "       STDDEV(acct_ttl_unit_hours) OVER (ORDER BY usage_date ROWS BETWEEN 5 PRECEDING AND CURRENT ROW) as s5,\n",
    "       STDDEV(acct_ttl_unit_hours) OVER (ORDER BY usage_date ROWS BETWEEN 10 PRECEDING AND CURRENT ROW) as s10,\n",
    "       STDDEV(acct_ttl_unit_hours) OVER (ORDER BY usage_date ROWS BETWEEN 15 PRECEDING AND CURRENT ROW) as s15,\n",
    "       FROM q1\n",
    "      )\n",
    "           \n",
    "SELECT usage_date,\n",
    "       acct_ttl_unit_hours,\n",
    "       CASE WHEN s5 = 0 THEN 0 ELSE SAFE_DIVIDE(acct_ttl_unit_hours-a5,s5) END as z5,\n",
    "       CASE WHEN s10 = 0 THEN 0 ELSE SAFE_DIVIDE(acct_ttl_unit_hours-a10,s10) END as z10,\n",
    "       CASE WHEN s15 = 0 THEN 0 ELSE SAFE_DIVIDE(acct_ttl_unit_hours-a15,s15) END as z15\n",
    "FROM q2\n",
    "      WHERE s5 IS NOT NULL\n",
    "      \"\"\""
   ]
  },
  {
   "cell_type": "code",
   "execution_count": 18,
   "metadata": {},
   "outputs": [],
   "source": [
    "dataset = fetch_data(source_type='query',source_name=query)"
   ]
  },
  {
   "cell_type": "code",
   "execution_count": 19,
   "metadata": {},
   "outputs": [],
   "source": [
    "dataset.to_csv('timeseries_data.csv')"
   ]
  },
  {
   "cell_type": "code",
   "execution_count": null,
   "metadata": {},
   "outputs": [],
   "source": []
  }
 ],
 "metadata": {
  "environment": {
   "name": "common-cpu.m46",
   "type": "gcloud",
   "uri": "gcr.io/deeplearning-platform-release/base-cpu:m46"
  },
  "kernelspec": {
   "display_name": "Python 3",
   "language": "python",
   "name": "python3"
  },
  "language_info": {
   "codemirror_mode": {
    "name": "ipython",
    "version": 3
   },
   "file_extension": ".py",
   "mimetype": "text/x-python",
   "name": "python",
   "nbconvert_exporter": "python",
   "pygments_lexer": "ipython3",
   "version": "3.7.6"
  }
 },
 "nbformat": 4,
 "nbformat_minor": 4
}
